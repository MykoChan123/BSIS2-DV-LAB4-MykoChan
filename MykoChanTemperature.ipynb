{
  "nbformat": 4,
  "nbformat_minor": 0,
  "metadata": {
    "colab": {
      "provenance": [],
      "authorship_tag": "ABX9TyOPmdMTxvCiGoBHlohsnoOJ",
      "include_colab_link": true
    },
    "kernelspec": {
      "name": "python3",
      "display_name": "Python 3"
    },
    "language_info": {
      "name": "python"
    }
  },
  "cells": [
    {
      "cell_type": "markdown",
      "metadata": {
        "id": "view-in-github",
        "colab_type": "text"
      },
      "source": [
        "<a href=\"https://colab.research.google.com/github/MykoChan123/BSIS2-DV-LAB4-MykoChan/blob/main/MykoChanTemperature.ipynb\" target=\"_parent\"><img src=\"https://colab.research.google.com/assets/colab-badge.svg\" alt=\"Open In Colab\"/></a>"
      ]
    },
    {
      "cell_type": "code",
      "execution_count": null,
      "metadata": {
        "colab": {
          "base_uri": "https://localhost:8080/",
          "height": 131
        },
        "id": "V9dybkJKdzcq",
        "outputId": "97c1914b-c463-4c33-e217-0614e5b35642"
      },
      "outputs": [
        {
          "output_type": "error",
          "ename": "SyntaxError",
          "evalue": "ignored",
          "traceback": [
            "\u001b[0;36m  File \u001b[0;32m\"<ipython-input-6-9fa80d2b9fed>\"\u001b[0;36m, line \u001b[0;32m3\u001b[0m\n\u001b[0;31m    temp >= 0 and temp <= 30:\u001b[0m\n\u001b[0m                              ^\u001b[0m\n\u001b[0;31mSyntaxError\u001b[0m\u001b[0;31m:\u001b[0m invalid syntax\n"
          ]
        }
      ],
      "source": [
        "\n",
        " temp = int(input(\"What is the temperature outside? : \"))\n",
        "\n",
        " temp >= 0 and temp <= 30: \n",
        "  print(\"the temperature is good today\") \n",
        "  print(\"can go outside!\")"
      ]
    },
    {
      "cell_type": "code",
      "source": [
        "temp = int(input(\"input Degrees\"))\n",
        "\n",
        "if( temp >= 0 and temp <= 30):\n",
        "  print(\"the temperature is good today\")\n",
        "  print(\"We can go \")"
      ],
      "metadata": {
        "colab": {
          "base_uri": "https://localhost:8080/"
        },
        "id": "uiagvIRJeMHb",
        "outputId": "dd6d01e3-7b98-4fe0-ec44-56ba2ec70584"
      },
      "execution_count": null,
      "outputs": [
        {
          "output_type": "stream",
          "name": "stdout",
          "text": [
            "input Degrees5\n",
            "Hello\n"
          ]
        }
      ]
    }
  ]
}